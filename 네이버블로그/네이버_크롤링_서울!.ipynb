{
 "cells": [
  {
   "cell_type": "code",
   "execution_count": 16,
   "metadata": {
    "ExecuteTime": {
     "end_time": "2021-04-28T02:34:37.223661Z",
     "start_time": "2021-04-28T02:34:37.170803Z"
    }
   },
   "outputs": [],
   "source": [
    "import pandas as pd\n",
    "import numpy as np\n",
    "import datetime\n",
    "import time\n",
    "import tqdm\n",
    "import requests\n",
    "from tqdm.notebook import tqdm\n",
    "from bs4 import BeautifulSoup\n",
    "from selenium import webdriver\n",
    "from selenium.webdriver.common.keys import Keys\n",
    "pd.set_option('display.max_row', 50000)"
   ]
  },
  {
   "cell_type": "code",
   "execution_count": 50,
   "metadata": {
    "ExecuteTime": {
     "end_time": "2021-04-28T04:10:51.108068Z",
     "start_time": "2021-04-28T04:10:50.848761Z"
    }
   },
   "outputs": [],
   "source": [
    "def doScrollDown(whileSeconds) :\n",
    "    start = datetime.datetime.now()\n",
    "    end = start + datetime.timedelta(seconds=whileSeconds)\n",
    "    while True:\n",
    "        dv.execute_script('window.scrollTo(0, document.body.scrollHeight);')\n",
    "        time.sleep(1)\n",
    "        if datetime.datetime.now() > end:\n",
    "            break"
   ]
  },
  {
   "cell_type": "code",
   "execution_count": 61,
   "metadata": {
    "ExecuteTime": {
     "end_time": "2021-04-28T06:11:01.631213Z",
     "start_time": "2021-04-28T06:10:11.615556Z"
    }
   },
   "outputs": [
    {
     "name": "stdout",
     "output_type": "stream",
     "text": [
      "어디? : 서울 데이트\n"
     ]
    }
   ],
   "source": [
    "###### 검색어\n",
    "location = input('어디? : ')\n",
    "\n",
    "###### webdriver 로드\n",
    "dv = webdriver.Chrome()\n",
    "dv.get('https://www.naver.com/')\n",
    "time.sleep(1)\n",
    "\n",
    "####### 검색시작\n",
    "search_bar = dv.find_element_by_id('query')\n",
    "search_bar.send_keys(location)\n",
    "search_bar.submit()\n",
    "time.sleep(2)\n",
    "\n",
    "######## view 페이지\n",
    "dv.find_element_by_css_selector('#lnb > div.lnb_group > div > ul > li:nth-child(2) > a').click()\n",
    "time.sleep(1)\n",
    "\n",
    "######## blog 페이지\n",
    "dv.find_element_by_css_selector('#snb > div.api_group_option_filter._search_option_simple_wrap > div > div.option_area.type_sort > a:nth-child(2)').click()\n",
    "time.sleep(1)\n",
    "\n",
    "######## 스크롤 다운\n",
    "doScrollDown(15)\n",
    "\n",
    "######## url ,title 저장\n",
    "url_list = []\n",
    "title_list = []\n",
    "for i in range(1,200):\n",
    "    text_raw = dv.find_elements_by_css_selector('#sp_blog_'+str(i)+' > div > a.api_txt_lines.total_tit')\n",
    "    for text in text_raw:\n",
    "        url=text.get_attribute('href')\n",
    "        url_list.append(url)\n",
    "    for text in text_raw:\n",
    "        title = text.text\n",
    "        title_list.append(title)\n",
    "time.sleep(1)\n",
    "######### 종료\n",
    "dv.close()"
   ]
  },
  {
   "cell_type": "code",
   "execution_count": 62,
   "metadata": {
    "ExecuteTime": {
     "end_time": "2021-04-28T06:14:21.827539Z",
     "start_time": "2021-04-28T06:14:21.811587Z"
    }
   },
   "outputs": [],
   "source": [
    "############## 개수\n",
    "len(url_list),len(title_list)\n",
    "\n",
    "############### csv로 저장\n",
    "df = pd.DataFrame({'url':url_list,'title':title_list})\n",
    "df.to_csv('blog_url.csv',sep=',')\n",
    "\n",
    "############### csv로 불러오기\n",
    "url_load = pd.read_csv('blog_url.csv')"
   ]
  },
  {
   "cell_type": "code",
   "execution_count": 63,
   "metadata": {
    "ExecuteTime": {
     "end_time": "2021-04-28T06:14:22.220574Z",
     "start_time": "2021-04-28T06:14:22.203619Z"
    }
   },
   "outputs": [
    {
     "data": {
      "text/plain": [
       "0      https://blog.naver.com/irelsuga?Redirect=Log&l...\n",
       "1      https://blog.naver.com/beplus2015?Redirect=Log...\n",
       "2      https://blog.naver.com/tcacyc?Redirect=Log&log...\n",
       "3      https://blog.naver.com/neweunha?Redirect=Log&l...\n",
       "4      https://blog.naver.com/kkumi99?Redirect=Log&lo...\n",
       "5      https://blog.naver.com/nailstan?Redirect=Log&l...\n",
       "6      https://blog.naver.com/dusl1984?Redirect=Log&l...\n",
       "7      https://blog.naver.com/goldpfeil?Redirect=Log&...\n",
       "8      https://blog.naver.com/9292totoro?Redirect=Log...\n",
       "9      https://blog.naver.com/anndam?Redirect=Log&log...\n",
       "10     https://blog.naver.com/suk4408?Redirect=Log&lo...\n",
       "11     https://blog.naver.com/cafeinfofam?Redirect=Lo...\n",
       "12     https://blog.naver.com/seouldatepop?Redirect=L...\n",
       "13     https://blog.naver.com/mandu_u?Redirect=Log&lo...\n",
       "14     https://blog.naver.com/kizaki56?Redirect=Log&l...\n",
       "15     https://blog.naver.com/tcacyc?Redirect=Log&log...\n",
       "16     https://blog.naver.com/monopoly15?Redirect=Log...\n",
       "17     https://blog.naver.com/jung111hee?Redirect=Log...\n",
       "18     https://blog.naver.com/lovetogapyjs?Redirect=L...\n",
       "19     https://blog.naver.com/sanaella?Redirect=Log&l...\n",
       "20     https://blog.naver.com/you1620?Redirect=Log&lo...\n",
       "21     https://blog.naver.com/khn619?Redirect=Log&log...\n",
       "22     https://blog.naver.com/amlee74?Redirect=Log&lo...\n",
       "23     https://blog.naver.com/anndam?Redirect=Log&log...\n",
       "24     https://blog.naver.com/neweunha?Redirect=Log&l...\n",
       "25     https://blog.naver.com/cafeinfofam?Redirect=Lo...\n",
       "26     https://blog.naver.com/basilang?Redirect=Log&l...\n",
       "27     https://blog.naver.com/nau2001?Redirect=Log&lo...\n",
       "28     https://blog.naver.com/june_be?Redirect=Log&lo...\n",
       "29     https://blog.naver.com/ppoppopia?Redirect=Log&...\n",
       "30     https://blog.naver.com/inging03?Redirect=Log&l...\n",
       "31     https://blog.naver.com/kyuliii?Redirect=Log&lo...\n",
       "32     https://blog.naver.com/2hyeono?Redirect=Log&lo...\n",
       "33     https://blog.naver.com/you1620?Redirect=Log&lo...\n",
       "34     https://blog.naver.com/1ove_honesty?Redirect=L...\n",
       "35     https://blog.naver.com/amlee74?Redirect=Log&lo...\n",
       "36     https://blog.naver.com/anndam?Redirect=Log&log...\n",
       "37     https://blog.naver.com/neweunha?Redirect=Log&l...\n",
       "38     https://blog.naver.com/cafeinfofam?Redirect=Lo...\n",
       "39     https://blog.naver.com/lyu1388?Redirect=Log&lo...\n",
       "40     https://blog.naver.com/s2sue?Redirect=Log&logN...\n",
       "41     https://blog.naver.com/clubcara?Redirect=Log&l...\n",
       "42     https://blog.naver.com/envy830322?Redirect=Log...\n",
       "43     https://blog.naver.com/g0heaven?Redirect=Log&l...\n",
       "44     https://blog.naver.com/kizaki56?Redirect=Log&l...\n",
       "45     https://blog.naver.com/ehdqkd4559?Redirect=Log...\n",
       "46     https://blog.naver.com/june_be?Redirect=Log&lo...\n",
       "47     https://blog.naver.com/you1620?Redirect=Log&lo...\n",
       "48     https://blog.naver.com/coom91?Redirect=Log&log...\n",
       "49     https://blog.naver.com/anndam?Redirect=Log&log...\n",
       "50     https://blog.naver.com/fromrei8?Redirect=Log&l...\n",
       "51     https://blog.naver.com/cafeinfofam?Redirect=Lo...\n",
       "52     https://blog.naver.com/lyu1388?Redirect=Log&lo...\n",
       "53     https://blog.naver.com/shin2naaa?Redirect=Log&...\n",
       "54     https://blog.naver.com/castpd?Redirect=Log&log...\n",
       "55     https://blog.naver.com/irelsuga?Redirect=Log&l...\n",
       "56     https://blog.naver.com/g0heaven?Redirect=Log&l...\n",
       "57     https://blog.naver.com/goindol71?Redirect=Log&...\n",
       "58     https://blog.naver.com/dmgk32?Redirect=Log&log...\n",
       "59     https://blog.naver.com/kagama007?Redirect=Log&...\n",
       "60     https://blog.naver.com/g0heaven?Redirect=Log&l...\n",
       "61     https://blog.naver.com/cafeinfofam?Redirect=Lo...\n",
       "62     https://blog.naver.com/cafeinfofam?Redirect=Lo...\n",
       "63     https://blog.naver.com/yukino3333?Redirect=Log...\n",
       "64     https://blog.naver.com/you1620?Redirect=Log&lo...\n",
       "65     https://blog.naver.com/you1620?Redirect=Log&lo...\n",
       "66     https://blog.naver.com/cafeinfofam?Redirect=Lo...\n",
       "67     https://blog.naver.com/csn324?Redirect=Log&log...\n",
       "68     https://blog.naver.com/jeju8253?Redirect=Log&l...\n",
       "69     https://blog.naver.com/eszzang1011?Redirect=Lo...\n",
       "70     https://blog.naver.com/neweunha?Redirect=Log&l...\n",
       "71     https://blog.naver.com/nau2001?Redirect=Log&lo...\n",
       "72     https://blog.naver.com/hyr67?Redirect=Log&logN...\n",
       "73     https://blog.naver.com/cabotin_8494?Redirect=L...\n",
       "74     https://blog.naver.com/bl85219?Redirect=Log&lo...\n",
       "75     https://blog.naver.com/quf02071227?Redirect=Lo...\n",
       "76     https://blog.naver.com/jeju8253?Redirect=Log&l...\n",
       "77     https://blog.naver.com/bl85219?Redirect=Log&lo...\n",
       "78     https://blog.naver.com/anndam?Redirect=Log&log...\n",
       "79     https://blog.naver.com/cafeinfofam?Redirect=Lo...\n",
       "80     https://blog.naver.com/hyr67?Redirect=Log&logN...\n",
       "81     https://blog.naver.com/dasomchoe?Redirect=Log&...\n",
       "82     https://blog.naver.com/gorgeous_ha?Redirect=Lo...\n",
       "83     https://blog.naver.com/thdkgus?Redirect=Log&lo...\n",
       "84     https://blog.naver.com/benya_ispin?Redirect=Lo...\n",
       "85     https://blog.naver.com/ericashin?Redirect=Log&...\n",
       "86     https://blog.naver.com/bennywhang?Redirect=Log...\n",
       "87     https://blog.naver.com/neweunha?Redirect=Log&l...\n",
       "88     https://blog.naver.com/sweetbar?Redirect=Log&l...\n",
       "89     https://blog.naver.com/dbeods?Redirect=Log&log...\n",
       "90     https://blog.naver.com/jeju8253?Redirect=Log&l...\n",
       "91     https://blog.naver.com/luna0723?Redirect=Log&l...\n",
       "92     https://blog.naver.com/neweunha?Redirect=Log&l...\n",
       "93     https://blog.naver.com/jdr21035?Redirect=Log&l...\n",
       "94     https://blog.naver.com/leehayaon?Redirect=Log&...\n",
       "95     https://blog.naver.com/qkrgkdms1993?Redirect=L...\n",
       "96     https://blog.naver.com/paulnam1?Redirect=Log&l...\n",
       "97     https://blog.naver.com/hanjun66?Redirect=Log&l...\n",
       "98     https://blog.naver.com/bluebko?Redirect=Log&lo...\n",
       "99     https://blog.naver.com/mumum80?Redirect=Log&lo...\n",
       "100    https://blog.naver.com/din_5?Redirect=Log&logN...\n",
       "101    https://blog.naver.com/june_be?Redirect=Log&lo...\n",
       "102    https://blog.naver.com/cruiserlaw?Redirect=Log...\n",
       "103    https://blog.naver.com/neweunha?Redirect=Log&l...\n",
       "104    https://blog.naver.com/isthisheaven?Redirect=L...\n",
       "105    https://blog.naver.com/sweetbar?Redirect=Log&l...\n",
       "106    https://blog.naver.com/hnmh2332?Redirect=Log&l...\n",
       "107    https://blog.naver.com/mixsun?Redirect=Log&log...\n",
       "108    https://blog.naver.com/ultrabat?Redirect=Log&l...\n",
       "109    https://blog.naver.com/chahyang88?Redirect=Log...\n",
       "110    https://blog.naver.com/jephis?Redirect=Log&log...\n",
       "111    https://blog.naver.com/pih870318?Redirect=Log&...\n",
       "112    https://blog.naver.com/luna0723?Redirect=Log&l...\n",
       "113    https://blog.naver.com/dks900409?Redirect=Log&...\n",
       "114    https://blog.naver.com/niky8888?Redirect=Log&l...\n",
       "115    https://blog.naver.com/bjqueen?Redirect=Log&lo...\n",
       "116    https://blog.naver.com/2195321?Redirect=Log&lo...\n",
       "117    https://blog.naver.com/cafeinfofam?Redirect=Lo...\n",
       "118    https://blog.naver.com/neweunha?Redirect=Log&l...\n",
       "119    https://blog.naver.com/amlee74?Redirect=Log&lo...\n",
       "120    https://blog.naver.com/esilvia?Redirect=Log&lo...\n",
       "121    https://blog.naver.com/piattobak?Redirect=Log&...\n",
       "122    https://blog.naver.com/tussman?Redirect=Log&lo...\n",
       "123    https://blog.naver.com/clothes1213?Redirect=Lo...\n",
       "124    https://blog.naver.com/junsnet?Redirect=Log&lo...\n",
       "125    https://blog.naver.com/bella_garden?Redirect=L...\n",
       "126    https://blog.naver.com/skawjddl23?Redirect=Log...\n",
       "127    https://blog.naver.com/songh22?Redirect=Log&lo...\n",
       "128    https://blog.naver.com/lee870910?Redirect=Log&...\n",
       "129    https://blog.naver.com/lsh5755?Redirect=Log&lo...\n",
       "130    https://blog.naver.com/neweunha?Redirect=Log&l...\n",
       "131    https://blog.naver.com/hyr67?Redirect=Log&logN...\n",
       "132    https://blog.naver.com/god2010god?Redirect=Log...\n",
       "133    https://blog.naver.com/yum128?Redirect=Log&log...\n",
       "134    https://blog.naver.com/tonyny35?Redirect=Log&l...\n",
       "135    https://blog.naver.com/june_be?Redirect=Log&lo...\n",
       "136    https://blog.naver.com/wingzero5?Redirect=Log&...\n",
       "137    https://blog.naver.com/yjy1068?Redirect=Log&lo...\n",
       "138    https://blog.naver.com/tammara?Redirect=Log&lo...\n",
       "139    https://blog.naver.com/ultrabat?Redirect=Log&l...\n",
       "140    https://blog.naver.com/cheolsoon?Redirect=Log&...\n",
       "141    https://blog.naver.com/pih870318?Redirect=Log&...\n",
       "142    https://blog.naver.com/ydl1?Redirect=Log&logNo...\n",
       "143    https://blog.naver.com/qkrgkdms1993?Redirect=L...\n",
       "144    https://blog.naver.com/parangusl_?Redirect=Log...\n",
       "145    https://blog.naver.com/withjoy79?Redirect=Log&...\n",
       "146    https://blog.naver.com/janedodo?Redirect=Log&l...\n",
       "147    https://blog.naver.com/2hyeono?Redirect=Log&lo...\n",
       "148    https://blog.naver.com/junsnet?Redirect=Log&lo...\n",
       "149    https://blog.naver.com/jjingnii?Redirect=Log&l...\n",
       "150    https://blog.naver.com/neweunha?Redirect=Log&l...\n",
       "151    https://blog.naver.com/srru4407?Redirect=Log&l...\n",
       "152    https://blog.naver.com/ym9240?Redirect=Log&log...\n",
       "153    https://blog.naver.com/weeeunjee?Redirect=Log&...\n",
       "154    https://blog.naver.com/suk4408?Redirect=Log&lo...\n",
       "155    https://blog.naver.com/nereid?Redirect=Log&log...\n",
       "156    https://blog.naver.com/ihyoo1?Redirect=Log&log...\n",
       "157    https://blog.naver.com/friday77?Redirect=Log&l...\n",
       "158    https://blog.naver.com/neweunha?Redirect=Log&l...\n",
       "159    https://blog.naver.com/tcacyc?Redirect=Log&log...\n",
       "160    https://blog.naver.com/cambang?Redirect=Log&lo...\n",
       "161    https://blog.naver.com/eunryori_?Redirect=Log&...\n",
       "162    https://blog.naver.com/dmgk32?Redirect=Log&log...\n",
       "163    https://blog.naver.com/isthisheaven?Redirect=L...\n",
       "164    https://blog.naver.com/tlsghk3667?Redirect=Log...\n",
       "165    https://blog.naver.com/dear_010?Redirect=Log&l...\n",
       "166    https://blog.naver.com/fromrei8?Redirect=Log&l...\n",
       "167    https://blog.naver.com/cafeinfofam?Redirect=Lo...\n",
       "168    https://blog.naver.com/god2010god?Redirect=Log...\n",
       "169    https://blog.naver.com/seouldatepop?Redirect=L...\n",
       "170    https://blog.naver.com/neweunha?Redirect=Log&l...\n",
       "171    https://blog.naver.com/so_hee510?Redirect=Log&...\n",
       "172    https://blog.naver.com/tmddlf?Redirect=Log&log...\n",
       "173    https://blog.naver.com/bahna2?Redirect=Log&log...\n",
       "174    https://blog.naver.com/cafeinfofam?Redirect=Lo...\n",
       "175    https://blog.naver.com/junjuly4?Redirect=Log&l...\n",
       "176    https://blog.naver.com/foreverck?Redirect=Log&...\n",
       "177    https://blog.naver.com/byrun_?Redirect=Log&log...\n",
       "178    https://blog.naver.com/jeju8253?Redirect=Log&l...\n",
       "179    https://blog.naver.com/weareinjapan?Redirect=L...\n",
       "180    https://blog.naver.com/supia2728?Redirect=Log&...\n",
       "181    https://blog.naver.com/joonki3?Redirect=Log&lo...\n",
       "182    https://blog.naver.com/pcjinsun?Redirect=Log&l...\n",
       "183    https://blog.naver.com/mixsun?Redirect=Log&log...\n",
       "184    https://blog.naver.com/kwhyun1627?Redirect=Log...\n",
       "185    https://blog.naver.com/kimdarn?Redirect=Log&lo...\n",
       "186    https://blog.naver.com/seouldatepop?Redirect=L...\n",
       "187    https://blog.naver.com/mys2k?Redirect=Log&logN...\n",
       "188    https://blog.naver.com/bl85219?Redirect=Log&lo...\n",
       "189    https://blog.naver.com/weeeunjee?Redirect=Log&...\n",
       "190    https://blog.naver.com/ghdwldus6348?Redirect=L...\n",
       "191    https://blog.naver.com/you1620?Redirect=Log&lo...\n",
       "192    https://blog.naver.com/yelin1890?Redirect=Log&...\n",
       "193    https://blog.naver.com/sgt0090?Redirect=Log&lo...\n",
       "194    https://blog.naver.com/tussman?Redirect=Log&lo...\n",
       "195    https://blog.naver.com/aus567?Redirect=Log&log...\n",
       "196    https://blog.naver.com/dhdbsk032?Redirect=Log&...\n",
       "197    https://blog.naver.com/hoyhoy901?Redirect=Log&...\n",
       "198    https://blog.naver.com/yangsunnys2?Redirect=Lo...\n",
       "Name: url, dtype: object"
      ]
     },
     "execution_count": 63,
     "metadata": {},
     "output_type": "execute_result"
    }
   ],
   "source": [
    "url_load['url']"
   ]
  },
  {
   "cell_type": "code",
   "execution_count": 64,
   "metadata": {
    "ExecuteTime": {
     "end_time": "2021-04-28T06:14:25.232533Z",
     "start_time": "2021-04-28T06:14:25.218548Z"
    }
   },
   "outputs": [],
   "source": [
    "number = len(url_load)"
   ]
  },
  {
   "cell_type": "code",
   "execution_count": 65,
   "metadata": {
    "ExecuteTime": {
     "end_time": "2021-04-28T06:14:25.454322Z",
     "start_time": "2021-04-28T06:14:25.442354Z"
    }
   },
   "outputs": [
    {
     "data": {
      "text/plain": [
       "199"
      ]
     },
     "execution_count": 65,
     "metadata": {},
     "output_type": "execute_result"
    }
   ],
   "source": [
    "number"
   ]
  },
  {
   "cell_type": "code",
   "execution_count": 66,
   "metadata": {
    "ExecuteTime": {
     "end_time": "2021-04-28T07:10:27.496038Z",
     "start_time": "2021-04-28T06:14:29.871216Z"
    }
   },
   "outputs": [
    {
     "data": {
      "application/vnd.jupyter.widget-view+json": {
       "model_id": "547f18b2644f4ae68f99b68b1ea0fca8",
       "version_major": 2,
       "version_minor": 0
      },
      "text/plain": [
       "HBox(children=(HTML(value=''), FloatProgress(value=0.0, max=199.0), HTML(value='')))"
      ]
     },
     "metadata": {},
     "output_type": "display_data"
    },
    {
     "name": "stdout",
     "output_type": "stream",
     "text": [
      "0\n",
      "1\n",
      "2\n",
      "3\n",
      "4\n",
      "5\n",
      "6\n",
      "7\n",
      "8\n",
      "9\n",
      "10\n",
      "11\n",
      "12\n",
      "13\n",
      "14\n",
      "15\n",
      "16\n",
      "17\n",
      "18\n",
      "19\n",
      "20\n",
      "21\n",
      "22\n",
      "23\n",
      "24\n",
      "25\n",
      "26\n",
      "27\n",
      "28\n",
      "29\n",
      "30\n",
      "31\n",
      "32\n",
      "33\n",
      "34\n",
      "35\n",
      "36\n",
      "37\n",
      "38\n",
      "39\n",
      "40\n",
      "41\n",
      "42\n",
      "43\n",
      "44\n",
      "45\n",
      "46\n",
      "47\n",
      "48\n",
      "49\n",
      "50\n",
      "51\n",
      "52\n",
      "53\n",
      "54\n",
      "55\n",
      "56\n",
      "57\n",
      "58\n",
      "59\n",
      "60\n",
      "61\n",
      "62\n",
      "63\n",
      "64\n",
      "65\n",
      "66\n",
      "67\n",
      "68\n",
      "69\n",
      "70\n",
      "71\n",
      "72\n",
      "73\n",
      "74\n",
      "75\n",
      "76\n",
      "77\n",
      "78\n",
      "79\n",
      "80\n",
      "81\n",
      "82\n",
      "83\n",
      "84\n",
      "85\n",
      "86\n",
      "87\n",
      "88\n",
      "89\n",
      "90\n",
      "91\n",
      "92\n",
      "93\n",
      "94\n",
      "95\n",
      "96\n",
      "97\n",
      "98\n",
      "99\n",
      "100\n",
      "101\n",
      "102\n",
      "103\n",
      "104\n",
      "105\n",
      "106\n",
      "107\n",
      "108\n",
      "109\n",
      "110\n",
      "111\n",
      "112\n",
      "113\n",
      "114\n",
      "115\n",
      "116\n",
      "117\n",
      "118\n",
      "119\n",
      "120\n",
      "121\n",
      "122\n",
      "123\n",
      "124\n",
      "125\n",
      "126\n",
      "127\n",
      "128\n",
      "129\n",
      "130\n",
      "131\n",
      "132\n",
      "133\n",
      "134\n",
      "135\n",
      "136\n",
      "137\n",
      "138\n",
      "139\n",
      "140\n",
      "141\n",
      "142\n",
      "143\n",
      "144\n",
      "145\n",
      "146\n",
      "147\n",
      "148\n",
      "149\n",
      "150\n",
      "151\n",
      "152\n",
      "153\n",
      "154\n",
      "155\n",
      "156\n",
      "157\n",
      "158\n",
      "159\n",
      "160\n",
      "161\n",
      "162\n",
      "163\n",
      "164\n",
      "165\n",
      "166\n",
      "167\n",
      "168\n",
      "169\n",
      "170\n",
      "171\n",
      "172\n",
      "173\n",
      "174\n",
      "175\n",
      "176\n",
      "177\n",
      "178\n",
      "179\n",
      "180\n",
      "181\n",
      "182\n",
      "183\n",
      "184\n",
      "185\n",
      "186\n",
      "187\n",
      "188\n",
      "189\n",
      "190\n",
      "191\n",
      "192\n",
      "193\n",
      "194\n",
      "195\n",
      "196\n",
      "197\n",
      "198\n",
      "\n"
     ]
    }
   ],
   "source": [
    "############ url당 title,contents 크롤링\n",
    "############ https://github.com/donghwan2/Crawling-World 참조\n",
    "content_list = []\n",
    "final_list = []\n",
    "for i in tqdm(range(0,number)): \n",
    "    url = url_load['url'][i]\n",
    "    driver = webdriver.Chrome()\n",
    "    driver.get(url)   \n",
    "    time.sleep(1)\n",
    "    try : \n",
    "        # iframe 접근\n",
    "        driver.switch_to.frame('mainFrame')\n",
    "        # 내용 크롤링\n",
    "        overlays = \".se-component.se-text.se-l-default\"  \n",
    "        contents = driver.find_elements_by_css_selector(overlays)\n",
    "        exam_list =[]\n",
    "        exam_list2 =[]\n",
    "        for content in contents:\n",
    "            content_list.append(content.text)\n",
    "            exam_list.append(content.text)\n",
    "        content_str = ' '.join(content_list)\n",
    "        exam_str = ' '.join(exam_list)\n",
    "        final_list.append(exam_str)\n",
    "        print(i)\n",
    "        driver.close()       \n",
    "    except:\n",
    "        driver.close()\n",
    "        print(\"에러나는 글: \" + str(i))\n",
    "        continue"
   ]
  },
  {
   "cell_type": "code",
   "execution_count": 67,
   "metadata": {
    "ExecuteTime": {
     "end_time": "2021-04-28T07:11:20.593716Z",
     "start_time": "2021-04-28T07:11:20.574766Z"
    },
    "scrolled": true
   },
   "outputs": [
    {
     "data": {
      "text/plain": [
       "512604"
      ]
     },
     "execution_count": 67,
     "metadata": {},
     "output_type": "execute_result"
    }
   ],
   "source": [
    "len(content_str)"
   ]
  },
  {
   "cell_type": "code",
   "execution_count": 59,
   "metadata": {
    "ExecuteTime": {
     "end_time": "2021-04-28T05:58:50.722284Z",
     "start_time": "2021-04-28T05:58:50.707350Z"
    }
   },
   "outputs": [],
   "source": [
    "f = open('서울여행지.txt','w',encoding='utf8')\n",
    "f.write(content_str)\n",
    "f.close()"
   ]
  },
  {
   "cell_type": "code",
   "execution_count": 68,
   "metadata": {
    "ExecuteTime": {
     "end_time": "2021-04-28T07:11:29.799651Z",
     "start_time": "2021-04-28T07:11:29.770728Z"
    }
   },
   "outputs": [],
   "source": [
    "seoul = pd.DataFrame(final_list)\n",
    "seoul = seoul.dropna()\n",
    "seoul.reset_index(drop=True,inplace=True)\n",
    "seoul.to_csv('seouldate.csv',encoding='utf8')"
   ]
  },
  {
   "cell_type": "code",
   "execution_count": null,
   "metadata": {},
   "outputs": [],
   "source": []
  }
 ],
 "metadata": {
  "kernelspec": {
   "display_name": "Python 3",
   "language": "python",
   "name": "python3"
  },
  "language_info": {
   "codemirror_mode": {
    "name": "ipython",
    "version": 3
   },
   "file_extension": ".py",
   "mimetype": "text/x-python",
   "name": "python",
   "nbconvert_exporter": "python",
   "pygments_lexer": "ipython3",
   "version": "3.8.5"
  },
  "toc": {
   "base_numbering": 1,
   "nav_menu": {},
   "number_sections": false,
   "sideBar": true,
   "skip_h1_title": false,
   "title_cell": "Table of Contents",
   "title_sidebar": "Contents",
   "toc_cell": false,
   "toc_position": {},
   "toc_section_display": true,
   "toc_window_display": false
  },
  "varInspector": {
   "cols": {
    "lenName": 16,
    "lenType": 16,
    "lenVar": 40
   },
   "kernels_config": {
    "python": {
     "delete_cmd_postfix": "",
     "delete_cmd_prefix": "del ",
     "library": "var_list.py",
     "varRefreshCmd": "print(var_dic_list())"
    },
    "r": {
     "delete_cmd_postfix": ") ",
     "delete_cmd_prefix": "rm(",
     "library": "var_list.r",
     "varRefreshCmd": "cat(var_dic_list()) "
    }
   },
   "types_to_exclude": [
    "module",
    "function",
    "builtin_function_or_method",
    "instance",
    "_Feature"
   ],
   "window_display": false
  }
 },
 "nbformat": 4,
 "nbformat_minor": 4
}
